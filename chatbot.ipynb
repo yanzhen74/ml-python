{
 "cells": [
  {
   "cell_type": "code",
   "execution_count": 6,
   "metadata": {},
   "outputs": [],
   "source": [
    "import codecs\n",
    "import jieba as jb\n",
    "import re\n",
    "import warnings\n",
    "warnings.filterwarnings(\"ignore\")\n",
    "import pandas as pd\n",
    "import random\n",
    "from sklearn.feature_extraction.text import TfidfVectorizer\n",
    "from sklearn.metrics.pairwise import cosine_similarity"
   ]
  },
  {
   "cell_type": "code",
   "execution_count": 178,
   "metadata": {},
   "outputs": [],
   "source": []
  },
  {
   "cell_type": "code",
   "execution_count": 8,
   "metadata": {},
   "outputs": [],
   "source": [
    "#中文分局\n",
    "def SentsTokenizer4Ch(text):\n",
    "    #sentences = re.split('(。|！|\\!|\\.|？|\\?)',text)\n",
    "    sentences = re.split('(。|！|\\!|？|\\?)',text)\n",
    "    new_sents = []\n",
    "    for i in range(int(len(sentences)/2)):\n",
    "        sent = sentences[2*i] + sentences[2*i+1]\n",
    "        sent = sent.replace('\\r\\n','')\n",
    "        sent = sent.strip()\n",
    "        new_sents.append(sent)\n",
    "    return new_sents\n",
    "\n",
    "#删除所有符号,只保留字母、数字和中文\n",
    "def remove_punctuation(line):\n",
    "    #line = str(line)\n",
    "    if line.strip()=='':\n",
    "        return ''\n",
    "    rule = re.compile(u\"[^a-zA-Z0-9\\u4E00-\\u9FA5]\")\n",
    "    line = rule.sub('',line)\n",
    "    return line\n",
    " \n",
    "#中文停用词\n",
    "def stopwordslist(filepath):  \n",
    "    stopwords = [line.strip() for line in open(filepath, 'r', encoding='utf-8').readlines()]  \n",
    "    return stopwords  \n",
    " \n",
    "#加载停用词\n",
    "stopwords = stopwordslist(\"./data/chineseStopWords.txt\")\n"
   ]
  },
  {
   "cell_type": "code",
   "execution_count": 10,
   "metadata": {},
   "outputs": [
    {
     "data": {
      "text/plain": [
       "['5g网络 编辑 讨论\\n5G网络是第五代移动通信网络，其峰值理论传输速度可达每秒数十Gb，比4G网络的传输速度快数百倍。',\n",
       " '举例来说，一部1G超高画质电影可在3秒之内下载完成。',\n",
       " '随着5G技术的诞生，用智能终端分享3D电影、游戏以及超高画质（UHD）节目的时代正向我们走来。',\n",
       " '中文名 5G网络 外文名 5G network 类    型 移动通信网络 应    用 用智能终端分享3D电影 优    势 更加方便快捷 研发企业 爱立信、intel、华为 [1] \\n目录\\n1 技术原理\\n2 研发进展\\n3 主要功能\\n▪ 传输速率\\n▪ 智能设备\\n▪ 网络链接\\n▪ 电池寿命\\n4 发展前景\\n5 技术测试\\n6 5G商用进程\\n7 5G网络试商用\\n8 5G标准是如何确立的\\n技术原理编辑\\n三星电子通过研究和试验表明，在28GHz的超高频段，以每秒1Gb以上的速度，成功实现了传送距离在2Km范围内的数据传输。',\n",
       " '此前，世界上没有一个企业或机构开发出在6GHz以上的超高频段实现每秒Gb级以上的数据传输技术，这是因为难以解决超高频波长段带来的数据损失大、传送距离短等难题。',\n",
       " '三星电子利用64个天线单元的自适应阵列传输技术，使电波的远距离输送成为可能，并能实时追踪使用者终端的位置，实现数据的上下载交换。',\n",
       " '超高频段数据传输技术的成功，不仅保证了更高的数据传输速度，也有效解决了移动通信波段资源几近枯竭的问题。',\n",
       " '研发进展编辑\\n2014年5月13日，三星电子宣布，其已率先开发出了首个基于5G核心技术的移动传输网络，并表示将在2020年之前进行5G网络的商业推广。',\n",
       " '[2] \\n2016年8月4日，诺基亚与电信传媒公司贝尔再次在加拿大完成了5G信号的测试。',\n",
       " '在测试中诺基亚使用了73GHz范围内的频谱，数据传输速度也达到了现有4G网络的6倍。']"
      ]
     },
     "execution_count": 10,
     "metadata": {},
     "output_type": "execute_result"
    }
   ],
   "source": [
    "myfile = \"./data/chatbot-data/5G-ch.txt\"\n",
    "text = codecs.open(myfile, \"r\", \"utf-8\").read()\n",
    "sent_tokens = SentsTokenizer4Ch(text)\n",
    "sent_tokens[:10]\n"
   ]
  },
  {
   "cell_type": "code",
   "execution_count": 11,
   "metadata": {},
   "outputs": [
    {
     "name": "stderr",
     "output_type": "stream",
     "text": [
      "Building prefix dict from the default dictionary ...\n",
      "Dumping model to file cache /tmp/jieba.cache\n",
      "Loading model cost 1.639 seconds.\n",
      "Prefix dict has been built succesfully.\n"
     ]
    },
    {
     "data": {
      "text/html": [
       "<div>\n",
       "<style scoped>\n",
       "    .dataframe tbody tr th:only-of-type {\n",
       "        vertical-align: middle;\n",
       "    }\n",
       "\n",
       "    .dataframe tbody tr th {\n",
       "        vertical-align: top;\n",
       "    }\n",
       "\n",
       "    .dataframe thead th {\n",
       "        text-align: right;\n",
       "    }\n",
       "</style>\n",
       "<table border=\"1\" class=\"dataframe\">\n",
       "  <thead>\n",
       "    <tr style=\"text-align: right;\">\n",
       "      <th></th>\n",
       "      <th>sent</th>\n",
       "      <th>clean_set</th>\n",
       "      <th>cut_sent</th>\n",
       "    </tr>\n",
       "  </thead>\n",
       "  <tbody>\n",
       "    <tr>\n",
       "      <th>0</th>\n",
       "      <td>5g网络 编辑 讨论\\n5G网络是第五代移动通信网络，其峰值理论传输速度可达每秒数十Gb，比...</td>\n",
       "      <td>5g网络编辑讨论5G网络是第五代移动通信网络其峰值理论传输速度可达每秒数十Gb比4G网络的传...</td>\n",
       "      <td>5g 网络 编辑 讨论 5G 网络 是 第五代 移动 通信 网络 其 峰值 理论 传输速度 ...</td>\n",
       "    </tr>\n",
       "    <tr>\n",
       "      <th>1</th>\n",
       "      <td>举例来说，一部1G超高画质电影可在3秒之内下载完成。</td>\n",
       "      <td>举例来说一部1G超高画质电影可在3秒之内下载完成</td>\n",
       "      <td>举例来说 一部 1G 超 高画质 电影 可 在 3 秒 之内 下载 完成</td>\n",
       "    </tr>\n",
       "    <tr>\n",
       "      <th>2</th>\n",
       "      <td>随着5G技术的诞生，用智能终端分享3D电影、游戏以及超高画质（UHD）节目的时代正向我们走来。</td>\n",
       "      <td>随着5G技术的诞生用智能终端分享3D电影游戏以及超高画质UHD节目的时代正向我们走来</td>\n",
       "      <td>随着 5G 技术 的 诞生 用 智能 终端 分享 3D 电影 游戏 以及 超 高画质 UHD...</td>\n",
       "    </tr>\n",
       "    <tr>\n",
       "      <th>3</th>\n",
       "      <td>中文名 5G网络 外文名 5G network 类    型 移动通信网络 应    用 用...</td>\n",
       "      <td>中文名5G网络外文名5Gnetwork类型移动通信网络应用用智能终端分享3D电影优势更加方便...</td>\n",
       "      <td>中文名 5G 网络 外文 名 5Gnetwork 类型 移动 通信 网络应用 用 智能 终端...</td>\n",
       "    </tr>\n",
       "    <tr>\n",
       "      <th>4</th>\n",
       "      <td>此前，世界上没有一个企业或机构开发出在6GHz以上的超高频段实现每秒Gb级以上的数据传输技术...</td>\n",
       "      <td>此前世界上没有一个企业或机构开发出在6GHz以上的超高频段实现每秒Gb级以上的数据传输技术这...</td>\n",
       "      <td>此前 世界 上 没有 一个 企业 或 机构 开发 出 在 6GHz 以上 的 超高频 段 实...</td>\n",
       "    </tr>\n",
       "  </tbody>\n",
       "</table>\n",
       "</div>"
      ],
      "text/plain": [
       "                                                sent  \\\n",
       "0  5g网络 编辑 讨论\\n5G网络是第五代移动通信网络，其峰值理论传输速度可达每秒数十Gb，比...   \n",
       "1                         举例来说，一部1G超高画质电影可在3秒之内下载完成。   \n",
       "2    随着5G技术的诞生，用智能终端分享3D电影、游戏以及超高画质（UHD）节目的时代正向我们走来。   \n",
       "3  中文名 5G网络 外文名 5G network 类    型 移动通信网络 应    用 用...   \n",
       "4  此前，世界上没有一个企业或机构开发出在6GHz以上的超高频段实现每秒Gb级以上的数据传输技术...   \n",
       "\n",
       "                                           clean_set  \\\n",
       "0  5g网络编辑讨论5G网络是第五代移动通信网络其峰值理论传输速度可达每秒数十Gb比4G网络的传...   \n",
       "1                           举例来说一部1G超高画质电影可在3秒之内下载完成   \n",
       "2         随着5G技术的诞生用智能终端分享3D电影游戏以及超高画质UHD节目的时代正向我们走来   \n",
       "3  中文名5G网络外文名5Gnetwork类型移动通信网络应用用智能终端分享3D电影优势更加方便...   \n",
       "4  此前世界上没有一个企业或机构开发出在6GHz以上的超高频段实现每秒Gb级以上的数据传输技术这...   \n",
       "\n",
       "                                            cut_sent  \n",
       "0  5g 网络 编辑 讨论 5G 网络 是 第五代 移动 通信 网络 其 峰值 理论 传输速度 ...  \n",
       "1               举例来说 一部 1G 超 高画质 电影 可 在 3 秒 之内 下载 完成  \n",
       "2  随着 5G 技术 的 诞生 用 智能 终端 分享 3D 电影 游戏 以及 超 高画质 UHD...  \n",
       "3  中文名 5G 网络 外文 名 5Gnetwork 类型 移动 通信 网络应用 用 智能 终端...  \n",
       "4  此前 世界 上 没有 一个 企业 或 机构 开发 出 在 6GHz 以上 的 超高频 段 实...  "
      ]
     },
     "execution_count": 11,
     "metadata": {},
     "output_type": "execute_result"
    }
   ],
   "source": [
    "#删除除字母,数字，汉字以外的所有符号\n",
    "df = pd.DataFrame(sent_tokens, columns=['sent'])\n",
    "df['clean_set']=  df['sent'].apply(remove_punctuation)\n",
    "\n",
    "#分词，并过滤停用词\n",
    "# df['cut_sent'] = df['clean_set'].apply(lambda x: \" \".join([w for w in list(jb.cut(x)) if w not in stopwords]))\n",
    "df['cut_sent'] = df['clean_set'].apply(lambda x: \" \".join([w for w in list(jb.cut(x))]))\n",
    "df.head()"
   ]
  },
  {
   "cell_type": "code",
   "execution_count": 14,
   "metadata": {},
   "outputs": [],
   "source": [
    "GREETING_INPUTS = (\"你好\", \"hi\", \"有人\", \"在吗\", \"嗨\",\"在不在\",\"有人吗\",'在','有人')\n",
    "GREETING_RESPONSES = [\"你好\",  \"我在\", \"请问,有什么可以帮您的吗?\", \"你好，我在\", \"你好，很高兴见到你！\"]\n",
    "\n",
    "def greeting(sentence):\n",
    "    rule = re.compile(u\"[^a-zA-Z0-9\\u4E00-\\u9FA5]\")\n",
    "    text = rule.sub('',sentence)\n",
    "    if text in GREETING_INPUTS:\n",
    "        return random.choice(GREETING_RESPONSES)\n",
    "    \n",
    "    wordlist =  [w for w in jb.cut(sentence)]\n",
    "    for word in wordlist:\n",
    "        if word in GREETING_INPUTS:\n",
    "            return random.choice(GREETING_RESPONSES)"
   ]
  },
  {
   "cell_type": "code",
   "execution_count": 15,
   "metadata": {},
   "outputs": [
    {
     "data": {
      "text/plain": [
       "'你好'"
      ]
     },
     "execution_count": 15,
     "metadata": {},
     "output_type": "execute_result"
    }
   ],
   "source": [
    "greeting('有人在吗？')"
   ]
  },
  {
   "cell_type": "code",
   "execution_count": 16,
   "metadata": {},
   "outputs": [],
   "source": [
    "def response(user_response):\n",
    "    robo_response=''\n",
    "    user_response  = remove_punctuation(user_response)\n",
    "    user_response= \" \".join([w for w in list(jb.cut(user_response)) if w not in stopwords])\n",
    "    cut_sent = df.cut_sent.values.tolist()\n",
    "    cut_sent.append(user_response)\n",
    "    tfidf = TfidfVectorizer()\n",
    "\n",
    "    tfidf_vec = tfidf.fit_transform(cut_sent)\n",
    "\n",
    "    cos_sim = cosine_similarity(tfidf_vec[-1], tfidf_vec)\n",
    "    idx=cos_sim.argsort()[0][-2]\n",
    "    flat = cos_sim.flatten()\n",
    "    flat.sort()\n",
    "    req_tfidf = flat[-2]\n",
    "\n",
    "    if(req_tfidf==0):\n",
    "        robo_response=robo_response+\"对不起,我不理解您的意思,我还是个小白...!\"\n",
    "        return(robo_response)\n",
    "    else:\n",
    "        robo_response = robo_response+df.sent.values[idx]\n",
    "        return(robo_response) \n",
    "\n"
   ]
  },
  {
   "cell_type": "code",
   "execution_count": 17,
   "metadata": {},
   "outputs": [
    {
     "name": "stdout",
     "output_type": "stream",
     "text": [
      "机器人: 我的名字叫小白. 我可以回答您关于5G的问题. 如果您想退出, 请输入:bye !\n",
      "你好\n",
      "机器人: 请问,有什么可以帮您的吗?\n",
      "\n",
      "你叫什么名字？\n",
      "机器人: 对不起,我不理解您的意思,我还是个小白...!\n",
      "\n",
      "5G是什么？\n",
      "机器人: 根据工信部等部门提出的5G推进工作部署以及三大运营商的5G商用计划，我国将于2017年展开5G网络第二阶段测试，2018年进行大规模试验组网，并在此基础上于2019年启动5G网络建设，最快2020年正式推出商用服务。\n",
      "\n",
      "5G有多快\n",
      "机器人: 根据工信部等部门提出的5G推进工作部署以及三大运营商的5G商用计划，我国将于2017年展开5G网络第二阶段测试，2018年进行大规模试验组网，并在此基础上于2019年启动5G网络建设，最快2020年正式推出商用服务。\n",
      "\n",
      "北京什么时候有5G？\n",
      "机器人: 其中，中国联通将在北京、天津、青岛、杭州、南京、武汉、贵阳、成都、深圳、福州、郑州、沈阳等16个城市开展5G试点。\n",
      "\n",
      "5G很快嘛？\n",
      "机器人: 随着5G网络产业链的成熟，5G手机的价格很快就会下探到千元的价格区间。\n",
      "\n",
      "5G的速度很快嘛？\n",
      "机器人: 这样的无线网络速度将比你用任何智能手机体验到的速度都要快很多。\n",
      "\n",
      "5G到底有多快？\n",
      "机器人: 不过科学家很难弄清楚支持所有这些设备到底需要多大的数据容量。\n",
      "\n",
      "bye\n",
      "小白: 再见! 欢迎再次光临!\n"
     ]
    }
   ],
   "source": [
    "flag=True\n",
    "print(\"机器人: 我的名字叫小白. 我可以回答您关于5G的问题. 如果您想退出, 请输入:bye !\")\n",
    "\n",
    "while(flag==True):\n",
    "    user_response = input()\n",
    "    user_response=user_response.lower()\n",
    "    if(user_response!='bye'):\n",
    "        if(user_response=='多谢' or user_response=='谢谢' ):\n",
    "            flag=False\n",
    "            print(\"机器人: 不用谢！\")\n",
    "        else:\n",
    "            if(greeting(user_response)!=None):\n",
    "                print(\"机器人: \"+greeting(user_response))\n",
    "                print()\n",
    "            else:\n",
    "                print(\"机器人: \",end=\"\")\n",
    "                print(response(user_response))\n",
    "                print()\n",
    "    else:\n",
    "        flag=False\n",
    "        print(\"小白: 再见! 欢迎再次光临!\")    "
   ]
  },
  {
   "cell_type": "code",
   "execution_count": null,
   "metadata": {},
   "outputs": [],
   "source": []
  },
  {
   "cell_type": "code",
   "execution_count": null,
   "metadata": {},
   "outputs": [],
   "source": []
  }
 ],
 "metadata": {
  "kernelspec": {
   "display_name": "Python 3",
   "language": "python",
   "name": "python3"
  },
  "language_info": {
   "codemirror_mode": {
    "name": "ipython",
    "version": 3
   },
   "file_extension": ".py",
   "mimetype": "text/x-python",
   "name": "python",
   "nbconvert_exporter": "python",
   "pygments_lexer": "ipython3",
   "version": "3.7.2"
  }
 },
 "nbformat": 4,
 "nbformat_minor": 2
}
